{
  "nbformat": 4,
  "nbformat_minor": 0,
  "metadata": {
    "colab": {
      "name": "ToTheMoon.ipynb",
      "provenance": [],
      "collapsed_sections": []
    },
    "kernelspec": {
      "name": "python3",
      "display_name": "Python 3"
    }
  },
  "cells": [
    {
      "cell_type": "code",
      "metadata": {
        "id": "jn7PKAUphAJP",
        "colab": {
          "base_uri": "https://localhost:8080/"
        },
        "outputId": "fc83bd9f-37d2-4c8c-cf3a-575736f40e38"
      },
      "source": [
        "!pip install alpaca-trade-api\n",
        "!pip install praw\n",
        "!pip install twitter\n",
        "!pip install oauth\n",
        "!pip install twitterscraper\n",
        "import alpaca_trade_api as alpaca\n",
        "import praw\n",
        "import math\n",
        "import time\n",
        "import os"
      ],
      "execution_count": null,
      "outputs": [
        {
          "output_type": "stream",
          "text": [
            "Collecting alpaca-trade-api\n",
            "  Downloading https://files.pythonhosted.org/packages/c2/a9/1a51c9f61a9ae88e576df246b11a36e1eb3bdbadb7255447837bf2967bc9/alpaca_trade_api-1.1.0-py3-none-any.whl\n",
            "Requirement already satisfied: pandas in /usr/local/lib/python3.7/dist-packages (from alpaca-trade-api) (1.1.5)\n",
            "Requirement already satisfied: numpy in /usr/local/lib/python3.7/dist-packages (from alpaca-trade-api) (1.19.5)\n",
            "Collecting websocket-client<1,>=0.56.0\n",
            "\u001b[?25l  Downloading https://files.pythonhosted.org/packages/08/33/80e0d4f60e84a1ddd9a03f340be1065a2a363c47ce65c4bd3bae65ce9631/websocket_client-0.58.0-py2.py3-none-any.whl (61kB)\n",
            "\u001b[K     |████████████████████████████████| 61kB 3.1MB/s \n",
            "\u001b[?25hRequirement already satisfied: requests<3,>2 in /usr/local/lib/python3.7/dist-packages (from alpaca-trade-api) (2.23.0)\n",
            "Requirement already satisfied: urllib3<2,>1.24 in /usr/local/lib/python3.7/dist-packages (from alpaca-trade-api) (1.24.3)\n",
            "Collecting websockets<9,>=8.0\n",
            "\u001b[?25l  Downloading https://files.pythonhosted.org/packages/5a/0b/3ebc752392a368af14dd24ee041683416ac6d2463eead94b311b11e41c82/websockets-8.1-cp37-cp37m-manylinux2010_x86_64.whl (79kB)\n",
            "\u001b[K     |████████████████████████████████| 81kB 4.2MB/s \n",
            "\u001b[?25hRequirement already satisfied: msgpack==1.0.2 in /usr/local/lib/python3.7/dist-packages (from alpaca-trade-api) (1.0.2)\n",
            "Requirement already satisfied: python-dateutil>=2.7.3 in /usr/local/lib/python3.7/dist-packages (from pandas->alpaca-trade-api) (2.8.1)\n",
            "Requirement already satisfied: pytz>=2017.2 in /usr/local/lib/python3.7/dist-packages (from pandas->alpaca-trade-api) (2018.9)\n",
            "Requirement already satisfied: six in /usr/local/lib/python3.7/dist-packages (from websocket-client<1,>=0.56.0->alpaca-trade-api) (1.15.0)\n",
            "Requirement already satisfied: certifi>=2017.4.17 in /usr/local/lib/python3.7/dist-packages (from requests<3,>2->alpaca-trade-api) (2020.12.5)\n",
            "Requirement already satisfied: chardet<4,>=3.0.2 in /usr/local/lib/python3.7/dist-packages (from requests<3,>2->alpaca-trade-api) (3.0.4)\n",
            "Requirement already satisfied: idna<3,>=2.5 in /usr/local/lib/python3.7/dist-packages (from requests<3,>2->alpaca-trade-api) (2.10)\n",
            "Installing collected packages: websocket-client, websockets, alpaca-trade-api\n",
            "Successfully installed alpaca-trade-api-1.1.0 websocket-client-0.58.0 websockets-8.1\n",
            "Collecting praw\n",
            "\u001b[?25l  Downloading https://files.pythonhosted.org/packages/48/a8/a2e2d0750ee17c7e3d81e4695a0338ad0b3f231853b8c3fa339ff2d25c7c/praw-7.2.0-py3-none-any.whl (159kB)\n",
            "\u001b[K     |████████████████████████████████| 163kB 4.4MB/s \n",
            "\u001b[?25hCollecting update-checker>=0.18\n",
            "  Downloading https://files.pythonhosted.org/packages/0c/ba/8dd7fa5f0b1c6a8ac62f8f57f7e794160c1f86f31c6d0fb00f582372a3e4/update_checker-0.18.0-py3-none-any.whl\n",
            "Requirement already satisfied: websocket-client>=0.54.0 in /usr/local/lib/python3.7/dist-packages (from praw) (0.58.0)\n",
            "Collecting prawcore<3,>=2\n",
            "  Downloading https://files.pythonhosted.org/packages/7d/df/4a9106bea0d26689c4b309da20c926a01440ddaf60c09a5ae22684ebd35f/prawcore-2.0.0-py3-none-any.whl\n",
            "Requirement already satisfied: requests>=2.3.0 in /usr/local/lib/python3.7/dist-packages (from update-checker>=0.18->praw) (2.23.0)\n",
            "Requirement already satisfied: six in /usr/local/lib/python3.7/dist-packages (from websocket-client>=0.54.0->praw) (1.15.0)\n",
            "Requirement already satisfied: chardet<4,>=3.0.2 in /usr/local/lib/python3.7/dist-packages (from requests>=2.3.0->update-checker>=0.18->praw) (3.0.4)\n",
            "Requirement already satisfied: urllib3!=1.25.0,!=1.25.1,<1.26,>=1.21.1 in /usr/local/lib/python3.7/dist-packages (from requests>=2.3.0->update-checker>=0.18->praw) (1.24.3)\n",
            "Requirement already satisfied: certifi>=2017.4.17 in /usr/local/lib/python3.7/dist-packages (from requests>=2.3.0->update-checker>=0.18->praw) (2020.12.5)\n",
            "Requirement already satisfied: idna<3,>=2.5 in /usr/local/lib/python3.7/dist-packages (from requests>=2.3.0->update-checker>=0.18->praw) (2.10)\n",
            "Installing collected packages: update-checker, prawcore, praw\n",
            "Successfully installed praw-7.2.0 prawcore-2.0.0 update-checker-0.18.0\n",
            "Collecting twitter\n",
            "\u001b[?25l  Downloading https://files.pythonhosted.org/packages/85/e2/f602e3f584503f03e0389491b251464f8ecfe2596ac86e6b9068fe7419d3/twitter-1.18.0-py2.py3-none-any.whl (54kB)\n",
            "\u001b[K     |████████████████████████████████| 61kB 2.9MB/s \n",
            "\u001b[?25hInstalling collected packages: twitter\n",
            "Successfully installed twitter-1.18.0\n",
            "Collecting oauth\n",
            "  Downloading https://files.pythonhosted.org/packages/e2/10/d7d6ae26ef7686109a10b3e88d345c4ec6686d07850f4ef7baefb7eb61e1/oauth-1.0.1.tar.gz\n",
            "Building wheels for collected packages: oauth\n",
            "  Building wheel for oauth (setup.py) ... \u001b[?25l\u001b[?25hdone\n",
            "  Created wheel for oauth: filename=oauth-1.0.1-cp37-none-any.whl size=8005 sha256=25e3143cbb3bcb7bcea6919188dc0fda6c2771a1843fca30ec804168b3d0704e\n",
            "  Stored in directory: /root/.cache/pip/wheels/f7/a8/ca/272f26e0c3973e23fe6720ca1c98fb2f5630263ab11c90af62\n",
            "Successfully built oauth\n",
            "Installing collected packages: oauth\n",
            "Successfully installed oauth-1.0.1\n",
            "Collecting twitterscraper\n",
            "  Downloading https://files.pythonhosted.org/packages/1c/d9/71aad697f3853be116aa26b83a80ce1b374deb2c65473e42e3a020f9b880/twitterscraper-1.6.1.tar.gz\n",
            "Collecting coala-utils~=0.5.0\n",
            "  Downloading https://files.pythonhosted.org/packages/54/00/74ec750cfc4e830f9d1cfdd4d559f3d2d4ba1b834b78d5266446db3fd1d6/coala_utils-0.5.1-py3-none-any.whl\n",
            "Requirement already satisfied: bs4 in /usr/local/lib/python3.7/dist-packages (from twitterscraper) (0.0.1)\n",
            "Requirement already satisfied: lxml in /usr/local/lib/python3.7/dist-packages (from twitterscraper) (4.2.6)\n",
            "Requirement already satisfied: requests in /usr/local/lib/python3.7/dist-packages (from twitterscraper) (2.23.0)\n",
            "Collecting billiard\n",
            "\u001b[?25l  Downloading https://files.pythonhosted.org/packages/2b/89/0c43de91d4e52eaa7bd748771d417f6ac9e51e66b2f61928c2151bf65878/billiard-3.6.4.0-py3-none-any.whl (89kB)\n",
            "\u001b[K     |████████████████████████████████| 92kB 3.7MB/s \n",
            "\u001b[?25hRequirement already satisfied: beautifulsoup4 in /usr/local/lib/python3.7/dist-packages (from bs4->twitterscraper) (4.6.3)\n",
            "Requirement already satisfied: chardet<4,>=3.0.2 in /usr/local/lib/python3.7/dist-packages (from requests->twitterscraper) (3.0.4)\n",
            "Requirement already satisfied: idna<3,>=2.5 in /usr/local/lib/python3.7/dist-packages (from requests->twitterscraper) (2.10)\n",
            "Requirement already satisfied: urllib3!=1.25.0,!=1.25.1,<1.26,>=1.21.1 in /usr/local/lib/python3.7/dist-packages (from requests->twitterscraper) (1.24.3)\n",
            "Requirement already satisfied: certifi>=2017.4.17 in /usr/local/lib/python3.7/dist-packages (from requests->twitterscraper) (2020.12.5)\n",
            "Building wheels for collected packages: twitterscraper\n",
            "  Building wheel for twitterscraper (setup.py) ... \u001b[?25l\u001b[?25hdone\n",
            "  Created wheel for twitterscraper: filename=twitterscraper-1.6.1-cp37-none-any.whl size=11347 sha256=ae1c413472ea1ac386457c18fa530669c0de5209e906bf940e816879c5e7cd5e\n",
            "  Stored in directory: /root/.cache/pip/wheels/1a/50/a0/808fd6df0ac14c168b73874056a1ca52e4d88c0c1ecedd4e48\n",
            "Successfully built twitterscraper\n",
            "Installing collected packages: coala-utils, billiard, twitterscraper\n",
            "Successfully installed billiard-3.6.4.0 coala-utils-0.5.1 twitterscraper-1.6.1\n"
          ],
          "name": "stdout"
        }
      ]
    },
    {
      "cell_type": "code",
      "metadata": {
        "id": "10so4JYbngGy"
      },
      "source": [
        "api = alpaca.REST('PKXAG8XUHSF8596B6SHC', 'Kq5hVh1bdelVq1J0pj3zFv7HlgoOknHEe6WH4IBM', 'https://paper-api.alpaca.markets')"
      ],
      "execution_count": null,
      "outputs": []
    },
    {
      "cell_type": "code",
      "metadata": {
        "id": "1twDZ3KEcmyg"
      },
      "source": [
        "############################################################################\n",
        "# update these here to change the variables of the amazing trading algorithm\n",
        "############################################################################\n",
        "\n",
        "# positive_points will contain positive phrases with point values to add\n",
        "# legends = (phrase to contain, must also contain, positive point value)\n",
        "positive_points = ((\"💎\", \"\", 1),\n",
        "                   (\"🚀\", \"\", 1),\n",
        "                   (\"🦍\", \"\", 1),\n",
        "                   (\"✊\", \"💎\", 1),\n",
        "                   (\"👐\", \"💎\", 1),\n",
        "                   (\" buying \", \"I'm\", 4),\n",
        "                   (\" holding \", \"I'm\", 4),\n",
        "                   (\"fuck the rich\", \"\", 4),\n",
        "                   (\"to the moon\", \"\", 4),\n",
        "                   (\"to the sun\", \"\", 8),\n",
        "                   (\" buy \", \"\", 2),\n",
        "                   (\" hold \", \"\", 1),\n",
        "                   (\" never sell \", \"\", 10),\n",
        "                   (\" winning \", \"\", 2),\n",
        "                   (\" orbit \", \"\", 4),\n",
        "                   (\" profit \", \"\", 2),\n",
        "                   (\"i like the stock\", \"\", 10))"
      ],
      "execution_count": null,
      "outputs": []
    },
    {
      "cell_type": "code",
      "metadata": {
        "colab": {
          "base_uri": "https://localhost:8080/",
          "height": 1000
        },
        "id": "9lKqI_ExzHbJ",
        "outputId": "5948192b-3178-4715-ae87-b71ee50bc191"
      },
      "source": [
        "os.environ['APCA_API_BASE_URL'] = \"https://paper-api.alpaca.markets\"\n",
        "os.environ['APCA_API_KEY_ID'] = \"PK0WGJK9RCF2R1FM5KSG\"\n",
        "os.environ['APCA_API_SECRET_KEY'] = \"tgIptafd1LzeoZk0CKvZH9KIx1PYbi365w1OjG6y\"\n",
        "\n",
        "reddit = praw.Reddit(client_id=\"rPbQL7re4oJKjQ\",\n",
        "                     client_secret=\"QS32mkQp4ntJ8iAIPDJNV6NBBLtUXw\",\n",
        "                     password=\"tpBCy9F5gZFRbdn\",\n",
        "                     user_agent=\"WSB analyses 1.0 by /u/United-Try1630\",\n",
        "                     username=\"United-Try1630\"\n",
        "                     )\n",
        "\n",
        "# holds the values for each cycle\n",
        "stock_points = {}\n",
        "\n",
        "share_amounts = {}\n",
        "\n",
        "\n",
        "def add_points(stock_ticker, point_value):\n",
        "    if stock_ticker in stock_points:\n",
        "        stock_points[stock_ticker] += point_value\n",
        "    else:\n",
        "        stock_points[stock_ticker] = point_value\n",
        "\n",
        "\n",
        "def process_comment(comment):\n",
        "    asset_list = api.list_assets(status='active')\n",
        "\n",
        "    for point_string_list in positive_points:\n",
        "        if point_string_list[0] in comment.body and point_string_list[1] in comment.body:\n",
        "            for asset in asset_list:\n",
        "                symbol_string = f\" {asset.symbol} \"\n",
        "                if symbol_string in comment.body:\n",
        "                    comment_score = comment.score - 4\n",
        "                    point_value = point_string_list[2] * comment_score * comment.body.count(point_string_list[0])\n",
        "                    add_points(asset.symbol, point_value)\n",
        "                    print(asset.symbol, stock_points[asset.symbol])\n",
        "\n",
        "\n",
        "def update_wsb_valuations():\n",
        "  \"\"\"check rolling comments on wsb new for our new values\"\"\"\n",
        "  hot_posts = reddit.subreddit('wallstreetbets').hot(limit=10)\n",
        "\n",
        "  for submission in hot_posts:\n",
        "    print(\"new post\")\n",
        "    sub_comments = submission.comments\n",
        "    sub_comments.replace_more(0)\n",
        "    \n",
        "    for comment in sub_comments:\n",
        "      if comment.score > 5:\n",
        "        process_comment(comment)\n",
        "        continue\n",
        "\n",
        "\n",
        "def get_account_value(account_value):\n",
        "    for position in api.list_positions():\n",
        "        price = api.get_last_trade(position.symbol).price\n",
        "        account_value += float(price) * float(position.qty)\n",
        "    return account_value\n",
        "\n",
        "\n",
        "while True:\n",
        "    stock_points.clear()\n",
        "\n",
        "    if not api.get_clock().is_open:\n",
        "        print('Market is not open.')\n",
        "        time.sleep(300)\n",
        "        continue\n",
        "\n",
        "    if api.get_account().trading_blocked:\n",
        "        print('Account is currently restricted from trading.')\n",
        "        time.sleep(600)\n",
        "        continue\n",
        "\n",
        "    print(\"Begin updating...\")\n",
        "    update_wsb_valuations()\n",
        "\n",
        "    account = api.get_account()\n",
        "    account_value = float(account.buying_power)\n",
        "    account_value = get_account_value(account_value)\n",
        "\n",
        "    # get our stock amounts that we should be holding\n",
        "    totalPoints = sum(stock_points.values())\n",
        "\n",
        "    for ticker in stock_points:\n",
        "        percentage = (stock_points[ticker] / totalPoints)\n",
        "        moneyAmount = math.floor(percentage * account_value * .9)\n",
        "        ticker_price = api.get_last_trade(ticker).price\n",
        "        shareAmount = math.floor(moneyAmount / float(ticker_price))\n",
        "\n",
        "        print(totalPoints,\n",
        "              ticker,\n",
        "              stock_points[ticker],\n",
        "              moneyAmount,\n",
        "              ticker_price,\n",
        "              shareAmount,\n",
        "              percentage,\n",
        "              account_value)\n",
        "\n",
        "        if shareAmount > 0:\n",
        "            share_amounts[ticker] = shareAmount\n",
        "\n",
        "    # sell anything we have too much of\n",
        "    for position in api.list_positions():\n",
        "        if position.symbol not in share_amounts:\n",
        "            try:\n",
        "                api.submit_order(\n",
        "                    symbol=position.symbol,\n",
        "                    qty=int(position.qty),\n",
        "                    side='sell',\n",
        "                    type='market',\n",
        "                    time_in_force='day'\n",
        "                )\n",
        "            except:\n",
        "              print(\"failed sell\")\n",
        "              pass\n",
        "\n",
        "            time.sleep(2)\n",
        "        elif share_amounts[position.symbol] < int(position.qty):\n",
        "            # sell the difference\n",
        "            try:\n",
        "                api.submit_order(\n",
        "                    symbol=position.symbol,\n",
        "                    qty=(int(position.qty) - int(share_amounts[position.symbol])),\n",
        "                    side='sell',\n",
        "                    type='market',\n",
        "                    time_in_force='day'\n",
        "                )\n",
        "            except:\n",
        "                pass\n",
        "            time.sleep(2)\n",
        "    # wait and hopefully the orders goes through\n",
        "    time.sleep(60)\n",
        "    # buy the ones that I do need\n",
        "    for ticker in share_amounts.keys():\n",
        "        # if I already have some of this, see if i need to buy more\n",
        "        found = False\n",
        "        for position in api.list_positions():\n",
        "            if ticker == position.symbol:\n",
        "                if share_amounts[ticker] > int(position.qty):\n",
        "                    found = True\n",
        "                    # buy more shares!\n",
        "                    try:\n",
        "                        api.submit_order(\n",
        "                            symbol=ticker,\n",
        "                            qty=(int(share_amounts[ticker]) - int(position.qty)),\n",
        "                            side='buy',\n",
        "                            type='market',\n",
        "                            time_in_force='day'\n",
        "                        )\n",
        "                    except:\n",
        "                        print(\"failed buy\")\n",
        "                        pass\n",
        "                    time.sleep(2)\n",
        "        if not found:\n",
        "            # if we don't already own it, let's buy some\n",
        "            # buy more shares!\n",
        "            try:\n",
        "                api.submit_order(\n",
        "                    symbol=ticker,\n",
        "                    qty=int(share_amounts[ticker]),\n",
        "                    side='buy',\n",
        "                    type='market',\n",
        "                    time_in_force='day'\n",
        "                )\n",
        "            except:\n",
        "                pass\n",
        "            time.sleep(2)"
      ],
      "execution_count": null,
      "outputs": [
        {
          "output_type": "stream",
          "text": [
            "It appears that you are using PRAW in an asynchronous environment.\n",
            "It is strongly recommended to use Async PRAW: https://asyncpraw.readthedocs.io.\n",
            "See https://praw.readthedocs.io/en/latest/getting_started/multiple_instances.html#discord-bots-and-asynchronous-environments for more info.\n",
            "\n"
          ],
          "name": "stderr"
        },
        {
          "output_type": "stream",
          "text": [
            "Begin updating...\n"
          ],
          "name": "stdout"
        },
        {
          "output_type": "stream",
          "text": [
            "It appears that you are using PRAW in an asynchronous environment.\n",
            "It is strongly recommended to use Async PRAW: https://asyncpraw.readthedocs.io.\n",
            "See https://praw.readthedocs.io/en/latest/getting_started/multiple_instances.html#discord-bots-and-asynchronous-environments for more info.\n",
            "\n"
          ],
          "name": "stderr"
        },
        {
          "output_type": "stream",
          "text": [
            "new post\n",
            "PLTR 38\n",
            "SPY 16\n",
            "AAPL 50\n",
            "ZOM 6\n",
            "HUGE 6\n",
            "SQQQ 6\n",
            "TSM 6\n",
            "QS 4\n"
          ],
          "name": "stdout"
        },
        {
          "output_type": "stream",
          "text": [
            "It appears that you are using PRAW in an asynchronous environment.\n",
            "It is strongly recommended to use Async PRAW: https://asyncpraw.readthedocs.io.\n",
            "See https://praw.readthedocs.io/en/latest/getting_started/multiple_instances.html#discord-bots-and-asynchronous-environments for more info.\n",
            "\n"
          ],
          "name": "stderr"
        },
        {
          "output_type": "stream",
          "text": [
            "new post\n"
          ],
          "name": "stdout"
        },
        {
          "output_type": "stream",
          "text": [
            "It appears that you are using PRAW in an asynchronous environment.\n",
            "It is strongly recommended to use Async PRAW: https://asyncpraw.readthedocs.io.\n",
            "See https://praw.readthedocs.io/en/latest/getting_started/multiple_instances.html#discord-bots-and-asynchronous-environments for more info.\n",
            "\n"
          ],
          "name": "stderr"
        },
        {
          "output_type": "stream",
          "text": [
            "new post\n",
            "OR 1099\n",
            "OR 5495\n",
            "GME 70\n",
            "GME 125\n",
            "GME 223\n",
            "JUST 242\n",
            "MOON 242\n",
            "GME 261\n",
            "GME 284\n",
            "GME 307\n",
            "ITM 24\n",
            "ITM 48\n",
            "GME 347\n",
            "GO 80\n",
            "GME 385\n",
            "FOR 19\n",
            "GME 401\n",
            "GME 421\n",
            "GME 441\n",
            "GME 461\n",
            "DUDE 54\n",
            "GME 515\n",
            "HOLD 54\n"
          ],
          "name": "stdout"
        },
        {
          "output_type": "stream",
          "text": [
            "It appears that you are using PRAW in an asynchronous environment.\n",
            "It is strongly recommended to use Async PRAW: https://asyncpraw.readthedocs.io.\n",
            "See https://praw.readthedocs.io/en/latest/getting_started/multiple_instances.html#discord-bots-and-asynchronous-environments for more info.\n",
            "\n"
          ],
          "name": "stderr"
        },
        {
          "output_type": "stream",
          "text": [
            "new post\n"
          ],
          "name": "stdout"
        },
        {
          "output_type": "stream",
          "text": [
            "It appears that you are using PRAW in an asynchronous environment.\n",
            "It is strongly recommended to use Async PRAW: https://asyncpraw.readthedocs.io.\n",
            "See https://praw.readthedocs.io/en/latest/getting_started/multiple_instances.html#discord-bots-and-asynchronous-environments for more info.\n",
            "\n"
          ],
          "name": "stderr"
        },
        {
          "output_type": "stream",
          "text": [
            "new post\n",
            "SPY 40\n"
          ],
          "name": "stdout"
        },
        {
          "output_type": "stream",
          "text": [
            "It appears that you are using PRAW in an asynchronous environment.\n",
            "It is strongly recommended to use Async PRAW: https://asyncpraw.readthedocs.io.\n",
            "See https://praw.readthedocs.io/en/latest/getting_started/multiple_instances.html#discord-bots-and-asynchronous-environments for more info.\n",
            "\n"
          ],
          "name": "stderr"
        },
        {
          "output_type": "stream",
          "text": [
            "new post\n"
          ],
          "name": "stdout"
        },
        {
          "output_type": "stream",
          "text": [
            "It appears that you are using PRAW in an asynchronous environment.\n",
            "It is strongly recommended to use Async PRAW: https://asyncpraw.readthedocs.io.\n",
            "See https://praw.readthedocs.io/en/latest/getting_started/multiple_instances.html#discord-bots-and-asynchronous-environments for more info.\n",
            "\n"
          ],
          "name": "stderr"
        },
        {
          "output_type": "stream",
          "text": [
            "new post\n"
          ],
          "name": "stdout"
        },
        {
          "output_type": "stream",
          "text": [
            "It appears that you are using PRAW in an asynchronous environment.\n",
            "It is strongly recommended to use Async PRAW: https://asyncpraw.readthedocs.io.\n",
            "See https://praw.readthedocs.io/en/latest/getting_started/multiple_instances.html#discord-bots-and-asynchronous-environments for more info.\n",
            "\n"
          ],
          "name": "stderr"
        },
        {
          "output_type": "stream",
          "text": [
            "new post\n",
            "MA 250\n",
            "RH 250\n"
          ],
          "name": "stdout"
        },
        {
          "output_type": "stream",
          "text": [
            "It appears that you are using PRAW in an asynchronous environment.\n",
            "It is strongly recommended to use Async PRAW: https://asyncpraw.readthedocs.io.\n",
            "See https://praw.readthedocs.io/en/latest/getting_started/multiple_instances.html#discord-bots-and-asynchronous-environments for more info.\n",
            "\n"
          ],
          "name": "stderr"
        },
        {
          "output_type": "stream",
          "text": [
            "new post\n"
          ],
          "name": "stdout"
        },
        {
          "output_type": "stream",
          "text": [
            "It appears that you are using PRAW in an asynchronous environment.\n",
            "It is strongly recommended to use Async PRAW: https://asyncpraw.readthedocs.io.\n",
            "See https://praw.readthedocs.io/en/latest/getting_started/multiple_instances.html#discord-bots-and-asynchronous-environments for more info.\n",
            "\n"
          ],
          "name": "stderr"
        },
        {
          "output_type": "stream",
          "text": [
            "new post\n"
          ],
          "name": "stdout"
        },
        {
          "output_type": "error",
          "ename": "HTTPError",
          "evalue": "ignored",
          "traceback": [
            "\u001b[0;31m---------------------------------------------------------------------------\u001b[0m",
            "\u001b[0;31mHTTPError\u001b[0m                                 Traceback (most recent call last)",
            "\u001b[0;32m<ipython-input-6-759669405a5c>\u001b[0m in \u001b[0;36m<module>\u001b[0;34m()\u001b[0m\n\u001b[1;32m     85\u001b[0m         \u001b[0mpercentage\u001b[0m \u001b[0;34m=\u001b[0m \u001b[0;34m(\u001b[0m\u001b[0mstock_points\u001b[0m\u001b[0;34m[\u001b[0m\u001b[0mticker\u001b[0m\u001b[0;34m]\u001b[0m \u001b[0;34m/\u001b[0m \u001b[0mtotalPoints\u001b[0m\u001b[0;34m)\u001b[0m\u001b[0;34m\u001b[0m\u001b[0;34m\u001b[0m\u001b[0m\n\u001b[1;32m     86\u001b[0m         \u001b[0mmoneyAmount\u001b[0m \u001b[0;34m=\u001b[0m \u001b[0mmath\u001b[0m\u001b[0;34m.\u001b[0m\u001b[0mfloor\u001b[0m\u001b[0;34m(\u001b[0m\u001b[0mpercentage\u001b[0m \u001b[0;34m*\u001b[0m \u001b[0maccount_value\u001b[0m \u001b[0;34m*\u001b[0m \u001b[0;36m.9\u001b[0m\u001b[0;34m)\u001b[0m\u001b[0;34m\u001b[0m\u001b[0;34m\u001b[0m\u001b[0m\n\u001b[0;32m---> 87\u001b[0;31m         \u001b[0mticker_price\u001b[0m \u001b[0;34m=\u001b[0m \u001b[0mapi\u001b[0m\u001b[0;34m.\u001b[0m\u001b[0mget_last_trade\u001b[0m\u001b[0;34m(\u001b[0m\u001b[0mticker\u001b[0m\u001b[0;34m)\u001b[0m\u001b[0;34m.\u001b[0m\u001b[0mprice\u001b[0m\u001b[0;34m\u001b[0m\u001b[0;34m\u001b[0m\u001b[0m\n\u001b[0m\u001b[1;32m     88\u001b[0m         \u001b[0mshareAmount\u001b[0m \u001b[0;34m=\u001b[0m \u001b[0mmath\u001b[0m\u001b[0;34m.\u001b[0m\u001b[0mfloor\u001b[0m\u001b[0;34m(\u001b[0m\u001b[0mmoneyAmount\u001b[0m \u001b[0;34m/\u001b[0m \u001b[0mfloat\u001b[0m\u001b[0;34m(\u001b[0m\u001b[0mticker_price\u001b[0m\u001b[0;34m)\u001b[0m\u001b[0;34m)\u001b[0m\u001b[0;34m\u001b[0m\u001b[0;34m\u001b[0m\u001b[0m\n\u001b[1;32m     89\u001b[0m \u001b[0;34m\u001b[0m\u001b[0m\n",
            "\u001b[0;32m/usr/local/lib/python3.7/dist-packages/alpaca_trade_api/rest.py\u001b[0m in \u001b[0;36mget_last_trade\u001b[0;34m(self, symbol)\u001b[0m\n\u001b[1;32m    512\u001b[0m         \u001b[0mGet\u001b[0m \u001b[0mthe\u001b[0m \u001b[0mlast\u001b[0m \u001b[0mtrade\u001b[0m \u001b[0;32mfor\u001b[0m \u001b[0mthe\u001b[0m \u001b[0mgiven\u001b[0m \u001b[0msymbol\u001b[0m\u001b[0;34m\u001b[0m\u001b[0;34m\u001b[0m\u001b[0m\n\u001b[1;32m    513\u001b[0m         \"\"\"\n\u001b[0;32m--> 514\u001b[0;31m         \u001b[0mresp\u001b[0m \u001b[0;34m=\u001b[0m \u001b[0mself\u001b[0m\u001b[0;34m.\u001b[0m\u001b[0mdata_get\u001b[0m\u001b[0;34m(\u001b[0m\u001b[0;34m'/last/stocks/{}'\u001b[0m\u001b[0;34m.\u001b[0m\u001b[0mformat\u001b[0m\u001b[0;34m(\u001b[0m\u001b[0msymbol\u001b[0m\u001b[0;34m)\u001b[0m\u001b[0;34m)\u001b[0m\u001b[0;34m\u001b[0m\u001b[0;34m\u001b[0m\u001b[0m\n\u001b[0m\u001b[1;32m    515\u001b[0m         \u001b[0;32mreturn\u001b[0m \u001b[0mself\u001b[0m\u001b[0;34m.\u001b[0m\u001b[0mresponse_wrapper\u001b[0m\u001b[0;34m(\u001b[0m\u001b[0mresp\u001b[0m\u001b[0;34m[\u001b[0m\u001b[0;34m'last'\u001b[0m\u001b[0;34m]\u001b[0m\u001b[0;34m,\u001b[0m \u001b[0mTrade\u001b[0m\u001b[0;34m)\u001b[0m\u001b[0;34m\u001b[0m\u001b[0;34m\u001b[0m\u001b[0m\n\u001b[1;32m    516\u001b[0m \u001b[0;34m\u001b[0m\u001b[0m\n",
            "\u001b[0;32m/usr/local/lib/python3.7/dist-packages/alpaca_trade_api/rest.py\u001b[0m in \u001b[0;36mdata_get\u001b[0;34m(self, path, data, api_version)\u001b[0m\n\u001b[1;32m    191\u001b[0m         \u001b[0mbase_url\u001b[0m\u001b[0;34m:\u001b[0m \u001b[0mURL\u001b[0m \u001b[0;34m=\u001b[0m \u001b[0mget_data_url\u001b[0m\u001b[0;34m(\u001b[0m\u001b[0;34m)\u001b[0m\u001b[0;34m\u001b[0m\u001b[0;34m\u001b[0m\u001b[0m\n\u001b[1;32m    192\u001b[0m         return self._request(\n\u001b[0;32m--> 193\u001b[0;31m             \u001b[0;34m'GET'\u001b[0m\u001b[0;34m,\u001b[0m \u001b[0mpath\u001b[0m\u001b[0;34m,\u001b[0m \u001b[0mdata\u001b[0m\u001b[0;34m,\u001b[0m \u001b[0mbase_url\u001b[0m\u001b[0;34m=\u001b[0m\u001b[0mbase_url\u001b[0m\u001b[0;34m,\u001b[0m \u001b[0mapi_version\u001b[0m\u001b[0;34m=\u001b[0m\u001b[0mapi_version\u001b[0m\u001b[0;34m,\u001b[0m\u001b[0;34m\u001b[0m\u001b[0;34m\u001b[0m\u001b[0m\n\u001b[0m\u001b[1;32m    194\u001b[0m         )\n\u001b[1;32m    195\u001b[0m \u001b[0;34m\u001b[0m\u001b[0m\n",
            "\u001b[0;32m/usr/local/lib/python3.7/dist-packages/alpaca_trade_api/rest.py\u001b[0m in \u001b[0;36m_request\u001b[0;34m(self, method, path, data, base_url, api_version)\u001b[0m\n\u001b[1;32m    137\u001b[0m         \u001b[0;32mwhile\u001b[0m \u001b[0mretry\u001b[0m \u001b[0;34m>=\u001b[0m \u001b[0;36m0\u001b[0m\u001b[0;34m:\u001b[0m\u001b[0;34m\u001b[0m\u001b[0;34m\u001b[0m\u001b[0m\n\u001b[1;32m    138\u001b[0m             \u001b[0;32mtry\u001b[0m\u001b[0;34m:\u001b[0m\u001b[0;34m\u001b[0m\u001b[0;34m\u001b[0m\u001b[0m\n\u001b[0;32m--> 139\u001b[0;31m                 \u001b[0;32mreturn\u001b[0m \u001b[0mself\u001b[0m\u001b[0;34m.\u001b[0m\u001b[0m_one_request\u001b[0m\u001b[0;34m(\u001b[0m\u001b[0mmethod\u001b[0m\u001b[0;34m,\u001b[0m \u001b[0murl\u001b[0m\u001b[0;34m,\u001b[0m \u001b[0mopts\u001b[0m\u001b[0;34m,\u001b[0m \u001b[0mretry\u001b[0m\u001b[0;34m)\u001b[0m\u001b[0;34m\u001b[0m\u001b[0;34m\u001b[0m\u001b[0m\n\u001b[0m\u001b[1;32m    140\u001b[0m             \u001b[0;32mexcept\u001b[0m \u001b[0mRetryException\u001b[0m\u001b[0;34m:\u001b[0m\u001b[0;34m\u001b[0m\u001b[0;34m\u001b[0m\u001b[0m\n\u001b[1;32m    141\u001b[0m                 \u001b[0mretry_wait\u001b[0m \u001b[0;34m=\u001b[0m \u001b[0mself\u001b[0m\u001b[0;34m.\u001b[0m\u001b[0m_retry_wait\u001b[0m\u001b[0;34m\u001b[0m\u001b[0;34m\u001b[0m\u001b[0m\n",
            "\u001b[0;32m/usr/local/lib/python3.7/dist-packages/alpaca_trade_api/rest.py\u001b[0m in \u001b[0;36m_one_request\u001b[0;34m(self, method, url, opts, retry)\u001b[0m\n\u001b[1;32m    158\u001b[0m         \u001b[0mresp\u001b[0m \u001b[0;34m=\u001b[0m \u001b[0mself\u001b[0m\u001b[0;34m.\u001b[0m\u001b[0m_session\u001b[0m\u001b[0;34m.\u001b[0m\u001b[0mrequest\u001b[0m\u001b[0;34m(\u001b[0m\u001b[0mmethod\u001b[0m\u001b[0;34m,\u001b[0m \u001b[0murl\u001b[0m\u001b[0;34m,\u001b[0m \u001b[0;34m**\u001b[0m\u001b[0mopts\u001b[0m\u001b[0;34m)\u001b[0m\u001b[0;34m\u001b[0m\u001b[0;34m\u001b[0m\u001b[0m\n\u001b[1;32m    159\u001b[0m         \u001b[0;32mtry\u001b[0m\u001b[0;34m:\u001b[0m\u001b[0;34m\u001b[0m\u001b[0;34m\u001b[0m\u001b[0m\n\u001b[0;32m--> 160\u001b[0;31m             \u001b[0mresp\u001b[0m\u001b[0;34m.\u001b[0m\u001b[0mraise_for_status\u001b[0m\u001b[0;34m(\u001b[0m\u001b[0;34m)\u001b[0m\u001b[0;34m\u001b[0m\u001b[0;34m\u001b[0m\u001b[0m\n\u001b[0m\u001b[1;32m    161\u001b[0m         \u001b[0;32mexcept\u001b[0m \u001b[0mHTTPError\u001b[0m \u001b[0;32mas\u001b[0m \u001b[0mhttp_error\u001b[0m\u001b[0;34m:\u001b[0m\u001b[0;34m\u001b[0m\u001b[0;34m\u001b[0m\u001b[0m\n\u001b[1;32m    162\u001b[0m             \u001b[0;31m# retry if we hit Rate Limit\u001b[0m\u001b[0;34m\u001b[0m\u001b[0;34m\u001b[0m\u001b[0;34m\u001b[0m\u001b[0m\n",
            "\u001b[0;32m/usr/local/lib/python3.7/dist-packages/requests/models.py\u001b[0m in \u001b[0;36mraise_for_status\u001b[0;34m(self)\u001b[0m\n\u001b[1;32m    939\u001b[0m \u001b[0;34m\u001b[0m\u001b[0m\n\u001b[1;32m    940\u001b[0m         \u001b[0;32mif\u001b[0m \u001b[0mhttp_error_msg\u001b[0m\u001b[0;34m:\u001b[0m\u001b[0;34m\u001b[0m\u001b[0;34m\u001b[0m\u001b[0m\n\u001b[0;32m--> 941\u001b[0;31m             \u001b[0;32mraise\u001b[0m \u001b[0mHTTPError\u001b[0m\u001b[0;34m(\u001b[0m\u001b[0mhttp_error_msg\u001b[0m\u001b[0;34m,\u001b[0m \u001b[0mresponse\u001b[0m\u001b[0;34m=\u001b[0m\u001b[0mself\u001b[0m\u001b[0;34m)\u001b[0m\u001b[0;34m\u001b[0m\u001b[0;34m\u001b[0m\u001b[0m\n\u001b[0m\u001b[1;32m    942\u001b[0m \u001b[0;34m\u001b[0m\u001b[0m\n\u001b[1;32m    943\u001b[0m     \u001b[0;32mdef\u001b[0m \u001b[0mclose\u001b[0m\u001b[0;34m(\u001b[0m\u001b[0mself\u001b[0m\u001b[0;34m)\u001b[0m\u001b[0;34m:\u001b[0m\u001b[0;34m\u001b[0m\u001b[0;34m\u001b[0m\u001b[0m\n",
            "\u001b[0;31mHTTPError\u001b[0m: 403 Client Error: Forbidden for url: https://data.alpaca.markets/v1/last/stocks/PLTR"
          ]
        }
      ]
    },
    {
      "cell_type": "code",
      "metadata": {
        "id": "lNnVdUgj1l7F"
      },
      "source": [
        "# from twitter import Twitter\n",
        "# import oauth \n",
        "\n",
        "# con_secret = 'jmDWoiDYayKx7yl7Lbp85DwOe'\n",
        "# con_secret_key='hD4SYCZ0HFSzXwYjRo9z2DcFtq1FceqqjaFUsdGQdcP0td68P0'\n",
        "# token='2826412838-HmLSHhfDfQ1tRl4bApKRJC12qOD6fJoNlbgJ47r'\n",
        "# token_key='yYso925Psbiyv5bhnB73JhDTE99Fctrbq6K1rXm84E0tT'\n",
        "\n",
        "# twitter = Twitter(auth=oauth.twitterApi(token, token_key, con_secret, con_secret_key))\n",
        "\n",
        "# # twitterApi = Twitter.api(consumer_key='jmDWoiDYayKx7yl7Lbp85DwOe',\n",
        "# #                   consumer_secret='hD4SYCZ0HFSzXwYjRo9z2DcFtq1FceqqjaFUsdGQdcP0td68P0',\n",
        "# #                   access_token_key='2826412838-HmLSHhfDfQ1tRl4bApKRJC12qOD6fJoNlbgJ47r',\n",
        "# #                   access_token_secret='yYso925Psbiyv5bhnB73JhDTE99Fctrbq6K1rXm84E0tT')\n",
        "\n",
        "# # requests.get(\n",
        "# #     'https://api.twitter.com/1.1/search/tweets.json?q=tesla',\n",
        "# #     headers={\n",
        "# #         'authorization': 'Bearer '+BEARER_TOKEN\n",
        "# # })"
      ],
      "execution_count": null,
      "outputs": []
    },
    {
      "cell_type": "code",
      "metadata": {
        "id": "_2WRnjuj5hSI"
      },
      "source": [
        "  from twitterscraper.query import query_user_info\n",
        "import pandas as pd\n",
        "from multiprocessing import Pool\n",
        "import time\n",
        "from IPython.display import display\n",
        "\n",
        "\n",
        "global twitter_user_info\n",
        "twitter_user_info=[]\n",
        "\n",
        "\n",
        "def get_user_info(twitter_user):\n",
        "    \"\"\"\n",
        "    An example of using the query_user_info method\n",
        "    :param twitter_user: the twitter user to capture user data\n",
        "    :return: twitter_user_data: returns a dictionary of twitter user data\n",
        "    \"\"\"\n",
        "    user_info = query_user_info(user= twitter_user)\n",
        "    twitter_user_data = {}\n",
        "    twitter_user_data[\"user\"] = user_info.user\n",
        "    twitter_user_data[\"fullname\"] = user_info.full_name\n",
        "    twitter_user_data[\"location\"] = user_info.location\n",
        "    twitter_user_data[\"blog\"] = user_info.blog\n",
        "    twitter_user_data[\"date_joined\"] = user_info.date_joined\n",
        "    twitter_user_data[\"id\"] = user_info.id\n",
        "    twitter_user_data[\"num_tweets\"] = user_info.tweets\n",
        "    twitter_user_data[\"following\"] = user_info.following\n",
        "    twitter_user_data[\"followers\"] = user_info.followers\n",
        "    twitter_user_data[\"likes\"] = user_info.likes\n",
        "    twitter_user_data[\"lists\"] = user_info.lists\n",
        "    \n",
        "    return twitter_user_data\n",
        "\n",
        "\n",
        "def main():\n",
        "    start = time.time()\n",
        "    users = ['Carlos_F_Enguix', 'mmtung', 'dremio', 'MongoDB', 'JenWike', 'timberners_lee','ataspinar2', 'realDonaldTrump',\n",
        "            'BarackObama', 'elonmusk', 'BillGates', 'BillClinton','katyperry','KimKardashian']\n",
        "\n",
        "    pool = Pool(8)    \n",
        "    for user in pool.map(get_user_info,users):\n",
        "        twitter_user_info.append(user)\n",
        "\n",
        "    cols=['id','fullname','date_joined','location','blog', 'num_tweets','following','followers','likes','lists']\n",
        "    data_frame = pd.DataFrame(twitter_user_info, index=users, columns=cols)\n",
        "    data_frame.index.name = \"Users\"\n",
        "    data_frame.sort_values(by=\"followers\", ascending=False, inplace=True, kind='quicksort', na_position='last')\n",
        "    elapsed = time.time() - start\n",
        "    print(f\"Elapsed time: {elapsed}\")\n",
        "    display(data_frame)\n",
        "    \n",
        "\n",
        "if __name__ == '__main__':\n",
        "    main()"
      ],
      "execution_count": null,
      "outputs": []
    }
  ]
}